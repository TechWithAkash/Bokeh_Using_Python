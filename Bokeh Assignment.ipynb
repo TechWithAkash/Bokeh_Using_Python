{
 "cells": [
  {
   "cell_type": "markdown",
   "id": "dde5e742",
   "metadata": {},
   "source": [
    "Q1. How can you create a Bokeh plot using Python code?"
   ]
  },
  {
   "cell_type": "markdown",
   "id": "690c6693",
   "metadata": {},
   "source": [
    "==>Python Bokeh is a Data Visualization library that provides interactive charts and plots. Bokeh renders its plots using HTML and JavaScript that uses modern web browsers for presenting elegant, concise construction of novel graphics with high-level interactivity. "
   ]
  },
  {
   "cell_type": "code",
   "execution_count": 4,
   "id": "8cc552df",
   "metadata": {},
   "outputs": [
    {
     "data": {
      "text/html": [
       "<div class=\"bk-root\">\n",
       "        <a href=\"https://bokeh.org\" target=\"_blank\" class=\"bk-logo bk-logo-small bk-logo-notebook\"></a>\n",
       "        <span id=\"1512\">Loading BokehJS ...</span>\n",
       "    </div>\n"
      ]
     },
     "metadata": {},
     "output_type": "display_data"
    },
    {
     "data": {
      "application/javascript": [
       "(function(root) {\n",
       "  function now() {\n",
       "    return new Date();\n",
       "  }\n",
       "\n",
       "  const force = true;\n",
       "\n",
       "  if (typeof root._bokeh_onload_callbacks === \"undefined\" || force === true) {\n",
       "    root._bokeh_onload_callbacks = [];\n",
       "    root._bokeh_is_loading = undefined;\n",
       "  }\n",
       "\n",
       "const JS_MIME_TYPE = 'application/javascript';\n",
       "  const HTML_MIME_TYPE = 'text/html';\n",
       "  const EXEC_MIME_TYPE = 'application/vnd.bokehjs_exec.v0+json';\n",
       "  const CLASS_NAME = 'output_bokeh rendered_html';\n",
       "\n",
       "  /**\n",
       "   * Render data to the DOM node\n",
       "   */\n",
       "  function render(props, node) {\n",
       "    const script = document.createElement(\"script\");\n",
       "    node.appendChild(script);\n",
       "  }\n",
       "\n",
       "  /**\n",
       "   * Handle when an output is cleared or removed\n",
       "   */\n",
       "  function handleClearOutput(event, handle) {\n",
       "    const cell = handle.cell;\n",
       "\n",
       "    const id = cell.output_area._bokeh_element_id;\n",
       "    const server_id = cell.output_area._bokeh_server_id;\n",
       "    // Clean up Bokeh references\n",
       "    if (id != null && id in Bokeh.index) {\n",
       "      Bokeh.index[id].model.document.clear();\n",
       "      delete Bokeh.index[id];\n",
       "    }\n",
       "\n",
       "    if (server_id !== undefined) {\n",
       "      // Clean up Bokeh references\n",
       "      const cmd_clean = \"from bokeh.io.state import curstate; print(curstate().uuid_to_server['\" + server_id + \"'].get_sessions()[0].document.roots[0]._id)\";\n",
       "      cell.notebook.kernel.execute(cmd_clean, {\n",
       "        iopub: {\n",
       "          output: function(msg) {\n",
       "            const id = msg.content.text.trim();\n",
       "            if (id in Bokeh.index) {\n",
       "              Bokeh.index[id].model.document.clear();\n",
       "              delete Bokeh.index[id];\n",
       "            }\n",
       "          }\n",
       "        }\n",
       "      });\n",
       "      // Destroy server and session\n",
       "      const cmd_destroy = \"import bokeh.io.notebook as ion; ion.destroy_server('\" + server_id + \"')\";\n",
       "      cell.notebook.kernel.execute(cmd_destroy);\n",
       "    }\n",
       "  }\n",
       "\n",
       "  /**\n",
       "   * Handle when a new output is added\n",
       "   */\n",
       "  function handleAddOutput(event, handle) {\n",
       "    const output_area = handle.output_area;\n",
       "    const output = handle.output;\n",
       "\n",
       "    // limit handleAddOutput to display_data with EXEC_MIME_TYPE content only\n",
       "    if ((output.output_type != \"display_data\") || (!Object.prototype.hasOwnProperty.call(output.data, EXEC_MIME_TYPE))) {\n",
       "      return\n",
       "    }\n",
       "\n",
       "    const toinsert = output_area.element.find(\".\" + CLASS_NAME.split(' ')[0]);\n",
       "\n",
       "    if (output.metadata[EXEC_MIME_TYPE][\"id\"] !== undefined) {\n",
       "      toinsert[toinsert.length - 1].firstChild.textContent = output.data[JS_MIME_TYPE];\n",
       "      // store reference to embed id on output_area\n",
       "      output_area._bokeh_element_id = output.metadata[EXEC_MIME_TYPE][\"id\"];\n",
       "    }\n",
       "    if (output.metadata[EXEC_MIME_TYPE][\"server_id\"] !== undefined) {\n",
       "      const bk_div = document.createElement(\"div\");\n",
       "      bk_div.innerHTML = output.data[HTML_MIME_TYPE];\n",
       "      const script_attrs = bk_div.children[0].attributes;\n",
       "      for (let i = 0; i < script_attrs.length; i++) {\n",
       "        toinsert[toinsert.length - 1].firstChild.setAttribute(script_attrs[i].name, script_attrs[i].value);\n",
       "        toinsert[toinsert.length - 1].firstChild.textContent = bk_div.children[0].textContent\n",
       "      }\n",
       "      // store reference to server id on output_area\n",
       "      output_area._bokeh_server_id = output.metadata[EXEC_MIME_TYPE][\"server_id\"];\n",
       "    }\n",
       "  }\n",
       "\n",
       "  function register_renderer(events, OutputArea) {\n",
       "\n",
       "    function append_mime(data, metadata, element) {\n",
       "      // create a DOM node to render to\n",
       "      const toinsert = this.create_output_subarea(\n",
       "        metadata,\n",
       "        CLASS_NAME,\n",
       "        EXEC_MIME_TYPE\n",
       "      );\n",
       "      this.keyboard_manager.register_events(toinsert);\n",
       "      // Render to node\n",
       "      const props = {data: data, metadata: metadata[EXEC_MIME_TYPE]};\n",
       "      render(props, toinsert[toinsert.length - 1]);\n",
       "      element.append(toinsert);\n",
       "      return toinsert\n",
       "    }\n",
       "\n",
       "    /* Handle when an output is cleared or removed */\n",
       "    events.on('clear_output.CodeCell', handleClearOutput);\n",
       "    events.on('delete.Cell', handleClearOutput);\n",
       "\n",
       "    /* Handle when a new output is added */\n",
       "    events.on('output_added.OutputArea', handleAddOutput);\n",
       "\n",
       "    /**\n",
       "     * Register the mime type and append_mime function with output_area\n",
       "     */\n",
       "    OutputArea.prototype.register_mime_type(EXEC_MIME_TYPE, append_mime, {\n",
       "      /* Is output safe? */\n",
       "      safe: true,\n",
       "      /* Index of renderer in `output_area.display_order` */\n",
       "      index: 0\n",
       "    });\n",
       "  }\n",
       "\n",
       "  // register the mime type if in Jupyter Notebook environment and previously unregistered\n",
       "  if (root.Jupyter !== undefined) {\n",
       "    const events = require('base/js/events');\n",
       "    const OutputArea = require('notebook/js/outputarea').OutputArea;\n",
       "\n",
       "    if (OutputArea.prototype.mime_types().indexOf(EXEC_MIME_TYPE) == -1) {\n",
       "      register_renderer(events, OutputArea);\n",
       "    }\n",
       "  }\n",
       "  if (typeof (root._bokeh_timeout) === \"undefined\" || force === true) {\n",
       "    root._bokeh_timeout = Date.now() + 5000;\n",
       "    root._bokeh_failed_load = false;\n",
       "  }\n",
       "\n",
       "  const NB_LOAD_WARNING = {'data': {'text/html':\n",
       "     \"<div style='background-color: #fdd'>\\n\"+\n",
       "     \"<p>\\n\"+\n",
       "     \"BokehJS does not appear to have successfully loaded. If loading BokehJS from CDN, this \\n\"+\n",
       "     \"may be due to a slow or bad network connection. Possible fixes:\\n\"+\n",
       "     \"</p>\\n\"+\n",
       "     \"<ul>\\n\"+\n",
       "     \"<li>re-rerun `output_notebook()` to attempt to load from CDN again, or</li>\\n\"+\n",
       "     \"<li>use INLINE resources instead, as so:</li>\\n\"+\n",
       "     \"</ul>\\n\"+\n",
       "     \"<code>\\n\"+\n",
       "     \"from bokeh.resources import INLINE\\n\"+\n",
       "     \"output_notebook(resources=INLINE)\\n\"+\n",
       "     \"</code>\\n\"+\n",
       "     \"</div>\"}};\n",
       "\n",
       "  function display_loaded() {\n",
       "    const el = document.getElementById(\"1512\");\n",
       "    if (el != null) {\n",
       "      el.textContent = \"BokehJS is loading...\";\n",
       "    }\n",
       "    if (root.Bokeh !== undefined) {\n",
       "      if (el != null) {\n",
       "        el.textContent = \"BokehJS \" + root.Bokeh.version + \" successfully loaded.\";\n",
       "      }\n",
       "    } else if (Date.now() < root._bokeh_timeout) {\n",
       "      setTimeout(display_loaded, 100)\n",
       "    }\n",
       "  }\n",
       "\n",
       "  function run_callbacks() {\n",
       "    try {\n",
       "      root._bokeh_onload_callbacks.forEach(function(callback) {\n",
       "        if (callback != null)\n",
       "          callback();\n",
       "      });\n",
       "    } finally {\n",
       "      delete root._bokeh_onload_callbacks\n",
       "    }\n",
       "    console.debug(\"Bokeh: all callbacks have finished\");\n",
       "  }\n",
       "\n",
       "  function load_libs(css_urls, js_urls, callback) {\n",
       "    if (css_urls == null) css_urls = [];\n",
       "    if (js_urls == null) js_urls = [];\n",
       "\n",
       "    root._bokeh_onload_callbacks.push(callback);\n",
       "    if (root._bokeh_is_loading > 0) {\n",
       "      console.debug(\"Bokeh: BokehJS is being loaded, scheduling callback at\", now());\n",
       "      return null;\n",
       "    }\n",
       "    if (js_urls == null || js_urls.length === 0) {\n",
       "      run_callbacks();\n",
       "      return null;\n",
       "    }\n",
       "    console.debug(\"Bokeh: BokehJS not loaded, scheduling load and callback at\", now());\n",
       "    root._bokeh_is_loading = css_urls.length + js_urls.length;\n",
       "\n",
       "    function on_load() {\n",
       "      root._bokeh_is_loading--;\n",
       "      if (root._bokeh_is_loading === 0) {\n",
       "        console.debug(\"Bokeh: all BokehJS libraries/stylesheets loaded\");\n",
       "        run_callbacks()\n",
       "      }\n",
       "    }\n",
       "\n",
       "    function on_error(url) {\n",
       "      console.error(\"failed to load \" + url);\n",
       "    }\n",
       "\n",
       "    for (let i = 0; i < css_urls.length; i++) {\n",
       "      const url = css_urls[i];\n",
       "      const element = document.createElement(\"link\");\n",
       "      element.onload = on_load;\n",
       "      element.onerror = on_error.bind(null, url);\n",
       "      element.rel = \"stylesheet\";\n",
       "      element.type = \"text/css\";\n",
       "      element.href = url;\n",
       "      console.debug(\"Bokeh: injecting link tag for BokehJS stylesheet: \", url);\n",
       "      document.body.appendChild(element);\n",
       "    }\n",
       "\n",
       "    for (let i = 0; i < js_urls.length; i++) {\n",
       "      const url = js_urls[i];\n",
       "      const element = document.createElement('script');\n",
       "      element.onload = on_load;\n",
       "      element.onerror = on_error.bind(null, url);\n",
       "      element.async = false;\n",
       "      element.src = url;\n",
       "      console.debug(\"Bokeh: injecting script tag for BokehJS library: \", url);\n",
       "      document.head.appendChild(element);\n",
       "    }\n",
       "  };\n",
       "\n",
       "  function inject_raw_css(css) {\n",
       "    const element = document.createElement(\"style\");\n",
       "    element.appendChild(document.createTextNode(css));\n",
       "    document.body.appendChild(element);\n",
       "  }\n",
       "\n",
       "  const js_urls = [\"https://cdn.bokeh.org/bokeh/release/bokeh-2.4.3.min.js\", \"https://cdn.bokeh.org/bokeh/release/bokeh-gl-2.4.3.min.js\", \"https://cdn.bokeh.org/bokeh/release/bokeh-widgets-2.4.3.min.js\", \"https://cdn.bokeh.org/bokeh/release/bokeh-tables-2.4.3.min.js\", \"https://cdn.bokeh.org/bokeh/release/bokeh-mathjax-2.4.3.min.js\"];\n",
       "  const css_urls = [];\n",
       "\n",
       "  const inline_js = [    function(Bokeh) {\n",
       "      Bokeh.set_log_level(\"info\");\n",
       "    },\n",
       "function(Bokeh) {\n",
       "    }\n",
       "  ];\n",
       "\n",
       "  function run_inline_js() {\n",
       "    if (root.Bokeh !== undefined || force === true) {\n",
       "          for (let i = 0; i < inline_js.length; i++) {\n",
       "      inline_js[i].call(root, root.Bokeh);\n",
       "    }\n",
       "if (force === true) {\n",
       "        display_loaded();\n",
       "      }} else if (Date.now() < root._bokeh_timeout) {\n",
       "      setTimeout(run_inline_js, 100);\n",
       "    } else if (!root._bokeh_failed_load) {\n",
       "      console.log(\"Bokeh: BokehJS failed to load within specified timeout.\");\n",
       "      root._bokeh_failed_load = true;\n",
       "    } else if (force !== true) {\n",
       "      const cell = $(document.getElementById(\"1512\")).parents('.cell').data().cell;\n",
       "      cell.output_area.append_execute_result(NB_LOAD_WARNING)\n",
       "    }\n",
       "  }\n",
       "\n",
       "  if (root._bokeh_is_loading === 0) {\n",
       "    console.debug(\"Bokeh: BokehJS loaded, going straight to plotting\");\n",
       "    run_inline_js();\n",
       "  } else {\n",
       "    load_libs(css_urls, js_urls, function() {\n",
       "      console.debug(\"Bokeh: BokehJS plotting callback run at\", now());\n",
       "      run_inline_js();\n",
       "    });\n",
       "  }\n",
       "}(window));"
      ],
      "application/vnd.bokehjs_load.v0+json": "(function(root) {\n  function now() {\n    return new Date();\n  }\n\n  const force = true;\n\n  if (typeof root._bokeh_onload_callbacks === \"undefined\" || force === true) {\n    root._bokeh_onload_callbacks = [];\n    root._bokeh_is_loading = undefined;\n  }\n\n\n  if (typeof (root._bokeh_timeout) === \"undefined\" || force === true) {\n    root._bokeh_timeout = Date.now() + 5000;\n    root._bokeh_failed_load = false;\n  }\n\n  const NB_LOAD_WARNING = {'data': {'text/html':\n     \"<div style='background-color: #fdd'>\\n\"+\n     \"<p>\\n\"+\n     \"BokehJS does not appear to have successfully loaded. If loading BokehJS from CDN, this \\n\"+\n     \"may be due to a slow or bad network connection. Possible fixes:\\n\"+\n     \"</p>\\n\"+\n     \"<ul>\\n\"+\n     \"<li>re-rerun `output_notebook()` to attempt to load from CDN again, or</li>\\n\"+\n     \"<li>use INLINE resources instead, as so:</li>\\n\"+\n     \"</ul>\\n\"+\n     \"<code>\\n\"+\n     \"from bokeh.resources import INLINE\\n\"+\n     \"output_notebook(resources=INLINE)\\n\"+\n     \"</code>\\n\"+\n     \"</div>\"}};\n\n  function display_loaded() {\n    const el = document.getElementById(\"1512\");\n    if (el != null) {\n      el.textContent = \"BokehJS is loading...\";\n    }\n    if (root.Bokeh !== undefined) {\n      if (el != null) {\n        el.textContent = \"BokehJS \" + root.Bokeh.version + \" successfully loaded.\";\n      }\n    } else if (Date.now() < root._bokeh_timeout) {\n      setTimeout(display_loaded, 100)\n    }\n  }\n\n  function run_callbacks() {\n    try {\n      root._bokeh_onload_callbacks.forEach(function(callback) {\n        if (callback != null)\n          callback();\n      });\n    } finally {\n      delete root._bokeh_onload_callbacks\n    }\n    console.debug(\"Bokeh: all callbacks have finished\");\n  }\n\n  function load_libs(css_urls, js_urls, callback) {\n    if (css_urls == null) css_urls = [];\n    if (js_urls == null) js_urls = [];\n\n    root._bokeh_onload_callbacks.push(callback);\n    if (root._bokeh_is_loading > 0) {\n      console.debug(\"Bokeh: BokehJS is being loaded, scheduling callback at\", now());\n      return null;\n    }\n    if (js_urls == null || js_urls.length === 0) {\n      run_callbacks();\n      return null;\n    }\n    console.debug(\"Bokeh: BokehJS not loaded, scheduling load and callback at\", now());\n    root._bokeh_is_loading = css_urls.length + js_urls.length;\n\n    function on_load() {\n      root._bokeh_is_loading--;\n      if (root._bokeh_is_loading === 0) {\n        console.debug(\"Bokeh: all BokehJS libraries/stylesheets loaded\");\n        run_callbacks()\n      }\n    }\n\n    function on_error(url) {\n      console.error(\"failed to load \" + url);\n    }\n\n    for (let i = 0; i < css_urls.length; i++) {\n      const url = css_urls[i];\n      const element = document.createElement(\"link\");\n      element.onload = on_load;\n      element.onerror = on_error.bind(null, url);\n      element.rel = \"stylesheet\";\n      element.type = \"text/css\";\n      element.href = url;\n      console.debug(\"Bokeh: injecting link tag for BokehJS stylesheet: \", url);\n      document.body.appendChild(element);\n    }\n\n    for (let i = 0; i < js_urls.length; i++) {\n      const url = js_urls[i];\n      const element = document.createElement('script');\n      element.onload = on_load;\n      element.onerror = on_error.bind(null, url);\n      element.async = false;\n      element.src = url;\n      console.debug(\"Bokeh: injecting script tag for BokehJS library: \", url);\n      document.head.appendChild(element);\n    }\n  };\n\n  function inject_raw_css(css) {\n    const element = document.createElement(\"style\");\n    element.appendChild(document.createTextNode(css));\n    document.body.appendChild(element);\n  }\n\n  const js_urls = [\"https://cdn.bokeh.org/bokeh/release/bokeh-2.4.3.min.js\", \"https://cdn.bokeh.org/bokeh/release/bokeh-gl-2.4.3.min.js\", \"https://cdn.bokeh.org/bokeh/release/bokeh-widgets-2.4.3.min.js\", \"https://cdn.bokeh.org/bokeh/release/bokeh-tables-2.4.3.min.js\", \"https://cdn.bokeh.org/bokeh/release/bokeh-mathjax-2.4.3.min.js\"];\n  const css_urls = [];\n\n  const inline_js = [    function(Bokeh) {\n      Bokeh.set_log_level(\"info\");\n    },\nfunction(Bokeh) {\n    }\n  ];\n\n  function run_inline_js() {\n    if (root.Bokeh !== undefined || force === true) {\n          for (let i = 0; i < inline_js.length; i++) {\n      inline_js[i].call(root, root.Bokeh);\n    }\nif (force === true) {\n        display_loaded();\n      }} else if (Date.now() < root._bokeh_timeout) {\n      setTimeout(run_inline_js, 100);\n    } else if (!root._bokeh_failed_load) {\n      console.log(\"Bokeh: BokehJS failed to load within specified timeout.\");\n      root._bokeh_failed_load = true;\n    } else if (force !== true) {\n      const cell = $(document.getElementById(\"1512\")).parents('.cell').data().cell;\n      cell.output_area.append_execute_result(NB_LOAD_WARNING)\n    }\n  }\n\n  if (root._bokeh_is_loading === 0) {\n    console.debug(\"Bokeh: BokehJS loaded, going straight to plotting\");\n    run_inline_js();\n  } else {\n    load_libs(css_urls, js_urls, function() {\n      console.debug(\"Bokeh: BokehJS plotting callback run at\", now());\n      run_inline_js();\n    });\n  }\n}(window));"
     },
     "metadata": {},
     "output_type": "display_data"
    }
   ],
   "source": [
    "import bokeh.io\n",
    "import bokeh.plotting\n",
    "bokeh.io.output_notebook()"
   ]
  },
  {
   "cell_type": "code",
   "execution_count": 8,
   "id": "badd6d47",
   "metadata": {},
   "outputs": [
    {
     "data": {
      "text/html": [
       "\n",
       "  <div class=\"bk-root\" id=\"6554d9ec-b973-4775-850e-976f6ce61ba6\" data-root-id=\"2018\"></div>\n"
      ]
     },
     "metadata": {},
     "output_type": "display_data"
    },
    {
     "data": {
      "application/javascript": [
       "(function(root) {\n",
       "  function embed_document(root) {\n",
       "  const docs_json = {\"fd53d2b7-563a-4838-9540-70a3aef7c000\":{\"defs\":[],\"roots\":{\"references\":[{\"attributes\":{\"below\":[{\"id\":\"2029\"}],\"center\":[{\"id\":\"2032\"},{\"id\":\"2036\"},{\"id\":\"2067\"}],\"left\":[{\"id\":\"2033\"}],\"renderers\":[{\"id\":\"2055\"}],\"title\":{\"id\":\"2019\"},\"toolbar\":{\"id\":\"2044\"},\"x_range\":{\"id\":\"2021\"},\"x_scale\":{\"id\":\"2025\"},\"y_range\":{\"id\":\"2023\"},\"y_scale\":{\"id\":\"2027\"}},\"id\":\"2018\",\"subtype\":\"Figure\",\"type\":\"Plot\"},{\"attributes\":{},\"id\":\"2064\",\"type\":\"UnionRenderers\"},{\"attributes\":{},\"id\":\"2038\",\"type\":\"WheelZoomTool\"},{\"attributes\":{},\"id\":\"2034\",\"type\":\"BasicTicker\"},{\"attributes\":{\"fill_alpha\":{\"value\":0.2},\"fill_color\":{\"value\":\"#1f77b4\"},\"hatch_alpha\":{\"value\":0.2},\"line_alpha\":{\"value\":0.2},\"line_color\":{\"value\":\"#1f77b4\"},\"x\":{\"field\":\"x\"},\"y\":{\"field\":\"y\"}},\"id\":\"2054\",\"type\":\"Circle\"},{\"attributes\":{},\"id\":\"2023\",\"type\":\"DataRange1d\"},{\"attributes\":{},\"id\":\"2037\",\"type\":\"PanTool\"},{\"attributes\":{},\"id\":\"2062\",\"type\":\"BasicTickFormatter\"},{\"attributes\":{\"coordinates\":null,\"group\":null,\"items\":[{\"id\":\"2068\"}]},\"id\":\"2067\",\"type\":\"Legend\"},{\"attributes\":{\"coordinates\":null,\"data_source\":{\"id\":\"2051\"},\"glyph\":{\"id\":\"2052\"},\"group\":null,\"hover_glyph\":null,\"muted_glyph\":{\"id\":\"2054\"},\"nonselection_glyph\":{\"id\":\"2053\"},\"view\":{\"id\":\"2056\"}},\"id\":\"2055\",\"type\":\"GlyphRenderer\"},{\"attributes\":{\"bottom_units\":\"screen\",\"coordinates\":null,\"fill_alpha\":0.5,\"fill_color\":\"lightgrey\",\"group\":null,\"left_units\":\"screen\",\"level\":\"overlay\",\"line_alpha\":1.0,\"line_color\":\"black\",\"line_dash\":[4,4],\"line_width\":2,\"right_units\":\"screen\",\"syncable\":false,\"top_units\":\"screen\"},\"id\":\"2043\",\"type\":\"BoxAnnotation\"},{\"attributes\":{\"axis\":{\"id\":\"2029\"},\"coordinates\":null,\"group\":null,\"ticker\":null},\"id\":\"2032\",\"type\":\"Grid\"},{\"attributes\":{},\"id\":\"2060\",\"type\":\"AllLabels\"},{\"attributes\":{},\"id\":\"2042\",\"type\":\"HelpTool\"},{\"attributes\":{},\"id\":\"2041\",\"type\":\"ResetTool\"},{\"attributes\":{\"axis_label\":\"petal width\",\"coordinates\":null,\"formatter\":{\"id\":\"2059\"},\"group\":null,\"major_label_policy\":{\"id\":\"2060\"},\"ticker\":{\"id\":\"2034\"}},\"id\":\"2033\",\"type\":\"LinearAxis\"},{\"attributes\":{},\"id\":\"2021\",\"type\":\"DataRange1d\"},{\"attributes\":{\"overlay\":{\"id\":\"2043\"}},\"id\":\"2039\",\"type\":\"BoxZoomTool\"},{\"attributes\":{},\"id\":\"2065\",\"type\":\"Selection\"},{\"attributes\":{},\"id\":\"2025\",\"type\":\"LinearScale\"},{\"attributes\":{\"axis\":{\"id\":\"2033\"},\"coordinates\":null,\"dimension\":1,\"group\":null,\"ticker\":null},\"id\":\"2036\",\"type\":\"Grid\"},{\"attributes\":{},\"id\":\"2030\",\"type\":\"BasicTicker\"},{\"attributes\":{\"source\":{\"id\":\"2051\"}},\"id\":\"2056\",\"type\":\"CDSView\"},{\"attributes\":{\"data\":{\"x\":{\"__ndarray__\":\"ZmZmZmZm9j9mZmZmZmb2P83MzMzMzPQ/AAAAAAAA+D9mZmZmZmb2PzMzMzMzM/s/ZmZmZmZm9j8AAAAAAAD4P2ZmZmZmZvY/AAAAAAAA+D8AAAAAAAD4P5qZmZmZmfk/ZmZmZmZm9j+amZmZmZnxPzMzMzMzM/M/AAAAAAAA+D/NzMzMzMz0P2ZmZmZmZvY/MzMzMzMz+z8AAAAAAAD4PzMzMzMzM/s/AAAAAAAA+D8AAAAAAADwPzMzMzMzM/s/ZmZmZmZm/j+amZmZmZn5P5qZmZmZmfk/AAAAAAAA+D9mZmZmZmb2P5qZmZmZmfk/mpmZmZmZ+T8AAAAAAAD4PwAAAAAAAPg/ZmZmZmZm9j8AAAAAAAD4PzMzMzMzM/M/zczMzMzM9D9mZmZmZmb2P83MzMzMzPQ/AAAAAAAA+D/NzMzMzMz0P83MzMzMzPQ/zczMzMzM9D+amZmZmZn5P2ZmZmZmZv4/ZmZmZmZm9j+amZmZmZn5P2ZmZmZmZvY/AAAAAAAA+D9mZmZmZmb2P83MzMzMzBJAAAAAAAAAEkCamZmZmZkTQAAAAAAAABBAZmZmZmZmEkAAAAAAAAASQM3MzMzMzBJAZmZmZmZmCkBmZmZmZmYSQDMzMzMzMw9AAAAAAAAADEDNzMzMzMwQQAAAAAAAABBAzczMzMzMEkDNzMzMzMwMQJqZmZmZmRFAAAAAAAAAEkBmZmZmZmYQQAAAAAAAABJAMzMzMzMzD0AzMzMzMzMTQAAAAAAAABBAmpmZmZmZE0DNzMzMzMwSQDMzMzMzMxFAmpmZmZmZEUAzMzMzMzMTQAAAAAAAABRAAAAAAAAAEkAAAAAAAAAMQGZmZmZmZg5AmpmZmZmZDUAzMzMzMzMPQGZmZmZmZhRAAAAAAAAAEkAAAAAAAAASQM3MzMzMzBJAmpmZmZmZEUBmZmZmZmYQQAAAAAAAABBAmpmZmZmZEUBmZmZmZmYSQAAAAAAAABBAZmZmZmZmCkDNzMzMzMwQQM3MzMzMzBBAzczMzMzMEEAzMzMzMzMRQAAAAAAAAAhAZmZmZmZmEEAAAAAAAAAYQGZmZmZmZhRAmpmZmZmZF0BmZmZmZmYWQDMzMzMzMxdAZmZmZmZmGkAAAAAAAAASQDMzMzMzMxlAMzMzMzMzF0BmZmZmZmYYQGZmZmZmZhRAMzMzMzMzFUAAAAAAAAAWQAAAAAAAABRAZmZmZmZmFEAzMzMzMzMVQAAAAAAAABZAzczMzMzMGkCamZmZmZkbQAAAAAAAABRAzczMzMzMFkCamZmZmZkTQM3MzMzMzBpAmpmZmZmZE0DNzMzMzMwWQAAAAAAAABhAMzMzMzMzE0CamZmZmZkTQGZmZmZmZhZAMzMzMzMzF0BmZmZmZmYYQJqZmZmZmRlAZmZmZmZmFkBmZmZmZmYUQGZmZmZmZhZAZmZmZmZmGEBmZmZmZmYWQAAAAAAAABZAMzMzMzMzE0CamZmZmZkVQGZmZmZmZhZAZmZmZmZmFEBmZmZmZmYUQJqZmZmZmRdAzczMzMzMFkDNzMzMzMwUQAAAAAAAABRAzczMzMzMFECamZmZmZkVQGZmZmZmZhRA\",\"dtype\":\"float64\",\"order\":\"little\",\"shape\":[150]},\"y\":{\"__ndarray__\":\"mpmZmZmZyT+amZmZmZnJP5qZmZmZmck/mpmZmZmZyT+amZmZmZnJP5qZmZmZmdk/MzMzMzMz0z+amZmZmZnJP5qZmZmZmck/mpmZmZmZuT+amZmZmZnJP5qZmZmZmck/mpmZmZmZuT+amZmZmZm5P5qZmZmZmck/mpmZmZmZ2T+amZmZmZnZPzMzMzMzM9M/MzMzMzMz0z8zMzMzMzPTP5qZmZmZmck/mpmZmZmZ2T+amZmZmZnJPwAAAAAAAOA/mpmZmZmZyT+amZmZmZnJP5qZmZmZmdk/mpmZmZmZyT+amZmZmZnJP5qZmZmZmck/mpmZmZmZyT+amZmZmZnZP5qZmZmZmbk/mpmZmZmZyT+amZmZmZnJP5qZmZmZmck/mpmZmZmZyT+amZmZmZm5P5qZmZmZmck/mpmZmZmZyT8zMzMzMzPTPzMzMzMzM9M/mpmZmZmZyT8zMzMzMzPjP5qZmZmZmdk/MzMzMzMz0z+amZmZmZnJP5qZmZmZmck/mpmZmZmZyT+amZmZmZnJP2ZmZmZmZvY/AAAAAAAA+D8AAAAAAAD4P83MzMzMzPQ/AAAAAAAA+D/NzMzMzMz0P5qZmZmZmfk/AAAAAAAA8D/NzMzMzMz0P2ZmZmZmZvY/AAAAAAAA8D8AAAAAAAD4PwAAAAAAAPA/ZmZmZmZm9j/NzMzMzMz0P2ZmZmZmZvY/AAAAAAAA+D8AAAAAAADwPwAAAAAAAPg/mpmZmZmZ8T/NzMzMzMz8P83MzMzMzPQ/AAAAAAAA+D8zMzMzMzPzP83MzMzMzPQ/ZmZmZmZm9j9mZmZmZmb2PzMzMzMzM/s/AAAAAAAA+D8AAAAAAADwP5qZmZmZmfE/AAAAAAAA8D8zMzMzMzPzP5qZmZmZmfk/AAAAAAAA+D+amZmZmZn5PwAAAAAAAPg/zczMzMzM9D/NzMzMzMz0P83MzMzMzPQ/MzMzMzMz8z9mZmZmZmb2PzMzMzMzM/M/AAAAAAAA8D/NzMzMzMz0PzMzMzMzM/M/zczMzMzM9D/NzMzMzMz0P5qZmZmZmfE/zczMzMzM9D8AAAAAAAAEQGZmZmZmZv4/zczMzMzMAEDNzMzMzMz8P5qZmZmZmQFAzczMzMzMAEAzMzMzMzP7P83MzMzMzPw/zczMzMzM/D8AAAAAAAAEQAAAAAAAAABAZmZmZmZm/j/NzMzMzMwAQAAAAAAAAABAMzMzMzMzA0BmZmZmZmYCQM3MzMzMzPw/mpmZmZmZAUBmZmZmZmYCQAAAAAAAAPg/ZmZmZmZmAkAAAAAAAAAAQAAAAAAAAABAzczMzMzM/D/NzMzMzMwAQM3MzMzMzPw/zczMzMzM/D/NzMzMzMz8P83MzMzMzABAmpmZmZmZ+T9mZmZmZmb+PwAAAAAAAABAmpmZmZmZAUAAAAAAAAD4P2ZmZmZmZvY/ZmZmZmZmAkAzMzMzMzMDQM3MzMzMzPw/zczMzMzM/D/NzMzMzMwAQDMzMzMzMwNAZmZmZmZmAkBmZmZmZmb+P2ZmZmZmZgJAAAAAAAAABEBmZmZmZmYCQGZmZmZmZv4/AAAAAAAAAEBmZmZmZmYCQM3MzMzMzPw/\",\"dtype\":\"float64\",\"order\":\"little\",\"shape\":[150]}},\"selected\":{\"id\":\"2065\"},\"selection_policy\":{\"id\":\"2064\"}},\"id\":\"2051\",\"type\":\"ColumnDataSource\"},{\"attributes\":{\"fill_alpha\":{\"value\":0.1},\"fill_color\":{\"value\":\"#1f77b4\"},\"hatch_alpha\":{\"value\":0.1},\"line_alpha\":{\"value\":0.1},\"line_color\":{\"value\":\"#1f77b4\"},\"x\":{\"field\":\"x\"},\"y\":{\"field\":\"y\"}},\"id\":\"2053\",\"type\":\"Circle\"},{\"attributes\":{\"label\":{\"value\":\"red\"},\"renderers\":[{\"id\":\"2055\"}]},\"id\":\"2068\",\"type\":\"LegendItem\"},{\"attributes\":{\"tools\":[{\"id\":\"2037\"},{\"id\":\"2038\"},{\"id\":\"2039\"},{\"id\":\"2040\"},{\"id\":\"2041\"},{\"id\":\"2042\"}]},\"id\":\"2044\",\"type\":\"Toolbar\"},{\"attributes\":{},\"id\":\"2040\",\"type\":\"SaveTool\"},{\"attributes\":{},\"id\":\"2027\",\"type\":\"LinearScale\"},{\"attributes\":{\"coordinates\":null,\"group\":null,\"text\":\"test flower\"},\"id\":\"2019\",\"type\":\"Title\"},{\"attributes\":{\"fill_color\":{\"value\":\"#1f77b4\"},\"line_color\":{\"value\":\"#1f77b4\"},\"x\":{\"field\":\"x\"},\"y\":{\"field\":\"y\"}},\"id\":\"2052\",\"type\":\"Circle\"},{\"attributes\":{\"axis_label\":\"petal length\",\"coordinates\":null,\"formatter\":{\"id\":\"2062\"},\"group\":null,\"major_label_policy\":{\"id\":\"2063\"},\"ticker\":{\"id\":\"2030\"}},\"id\":\"2029\",\"type\":\"LinearAxis\"},{\"attributes\":{},\"id\":\"2059\",\"type\":\"BasicTickFormatter\"},{\"attributes\":{},\"id\":\"2063\",\"type\":\"AllLabels\"}],\"root_ids\":[\"2018\"]},\"title\":\"Bokeh Application\",\"version\":\"2.4.3\"}};\n",
       "  const render_items = [{\"docid\":\"fd53d2b7-563a-4838-9540-70a3aef7c000\",\"root_ids\":[\"2018\"],\"roots\":{\"2018\":\"6554d9ec-b973-4775-850e-976f6ce61ba6\"}}];\n",
       "  root.Bokeh.embed.embed_items_notebook(docs_json, render_items);\n",
       "  }\n",
       "  if (root.Bokeh !== undefined) {\n",
       "    embed_document(root);\n",
       "  } else {\n",
       "    let attempts = 0;\n",
       "    const timer = setInterval(function(root) {\n",
       "      if (root.Bokeh !== undefined) {\n",
       "        clearInterval(timer);\n",
       "        embed_document(root);\n",
       "      } else {\n",
       "        attempts++;\n",
       "        if (attempts > 100) {\n",
       "          clearInterval(timer);\n",
       "          console.log(\"Bokeh: ERROR: Unable to run BokehJS code because BokehJS library is missing\");\n",
       "        }\n",
       "      }\n",
       "    }, 10, root)\n",
       "  }\n",
       "})(window);"
      ],
      "application/vnd.bokehjs_exec.v0+json": ""
     },
     "metadata": {
      "application/vnd.bokehjs_exec.v0+json": {
       "id": "2018"
      }
     },
     "output_type": "display_data"
    }
   ],
   "source": [
    "from bokeh.plotting import figure , output_file ,show\n",
    "from bokeh.sampledata.iris import flowers\n",
    "\n",
    "output_file('test.html')\n",
    "\n",
    "p = figure(title = \"test flower\")\n",
    "p.xaxis.axis_label = \"petal length\"\n",
    "p.yaxis.axis_label = \"petal width\"\n",
    "p.circle(flowers['petal_length'], flowers['petal_width'], legend_label=\"red\")\n",
    "show(p)"
   ]
  },
  {
   "cell_type": "code",
   "execution_count": null,
   "id": "d7f3095e",
   "metadata": {},
   "outputs": [],
   "source": []
  },
  {
   "cell_type": "markdown",
   "id": "51eea95b",
   "metadata": {},
   "source": [
    "Q2. What are glyphs in Bokeh, and how can you add them to a Bokeh plot? Explain with an example."
   ]
  },
  {
   "cell_type": "markdown",
   "id": "d8a71e48",
   "metadata": {},
   "source": [
    "==>\n",
    " Bokeh, glyphs are the visual shapes or markers used to represent data on a plot. They are fundamental building blocks in Bokeh and are used to create various visualizations such as scatter plots, line plots, bar charts, and more. Bokeh provides a wide range of glyphs to cater to different types of data representations.\n",
    "\n"
   ]
  },
  {
   "cell_type": "code",
   "execution_count": 10,
   "id": "01b0a0a4",
   "metadata": {},
   "outputs": [
    {
     "data": {
      "text/html": [
       "\n",
       "  <div class=\"bk-root\" id=\"7c0ffbc1-6ea4-422b-be17-b5e15a37bb9b\" data-root-id=\"2561\"></div>\n"
      ]
     },
     "metadata": {},
     "output_type": "display_data"
    },
    {
     "data": {
      "application/javascript": [
       "(function(root) {\n",
       "  function embed_document(root) {\n",
       "  const docs_json = {\"a6cc2a3b-b01f-4835-8a84-e4e0a92c8a36\":{\"defs\":[],\"roots\":{\"references\":[{\"attributes\":{\"below\":[{\"id\":\"2572\"}],\"center\":[{\"id\":\"2575\"},{\"id\":\"2579\"},{\"id\":\"2610\"}],\"left\":[{\"id\":\"2576\"}],\"renderers\":[{\"id\":\"2598\"}],\"title\":{\"id\":\"2562\"},\"toolbar\":{\"id\":\"2587\"},\"x_range\":{\"id\":\"2564\"},\"x_scale\":{\"id\":\"2568\"},\"y_range\":{\"id\":\"2566\"},\"y_scale\":{\"id\":\"2570\"}},\"id\":\"2561\",\"subtype\":\"Figure\",\"type\":\"Plot\"},{\"attributes\":{\"fill_alpha\":{\"value\":0.1},\"fill_color\":{\"value\":\"blue\"},\"hatch_alpha\":{\"value\":0.1},\"hatch_color\":{\"value\":\"blue\"},\"line_alpha\":{\"value\":0.1},\"line_color\":{\"value\":\"blue\"},\"size\":{\"value\":10},\"x\":{\"field\":\"x\"},\"y\":{\"field\":\"y\"}},\"id\":\"2596\",\"type\":\"Circle\"},{\"attributes\":{},\"id\":\"2585\",\"type\":\"HelpTool\"},{\"attributes\":{},\"id\":\"2564\",\"type\":\"DataRange1d\"},{\"attributes\":{},\"id\":\"2580\",\"type\":\"PanTool\"},{\"attributes\":{\"coordinates\":null,\"group\":null,\"text\":\"Scatter Plot Example\"},\"id\":\"2562\",\"type\":\"Title\"},{\"attributes\":{},\"id\":\"2566\",\"type\":\"DataRange1d\"},{\"attributes\":{\"tools\":[{\"id\":\"2580\"},{\"id\":\"2581\"},{\"id\":\"2582\"},{\"id\":\"2583\"},{\"id\":\"2584\"},{\"id\":\"2585\"}]},\"id\":\"2587\",\"type\":\"Toolbar\"},{\"attributes\":{\"overlay\":{\"id\":\"2586\"}},\"id\":\"2582\",\"type\":\"BoxZoomTool\"},{\"attributes\":{},\"id\":\"2581\",\"type\":\"WheelZoomTool\"},{\"attributes\":{},\"id\":\"2570\",\"type\":\"LinearScale\"},{\"attributes\":{},\"id\":\"2608\",\"type\":\"Selection\"},{\"attributes\":{\"axis_label\":\"X-axis\",\"coordinates\":null,\"formatter\":{\"id\":\"2605\"},\"group\":null,\"major_label_policy\":{\"id\":\"2606\"},\"ticker\":{\"id\":\"2573\"}},\"id\":\"2572\",\"type\":\"LinearAxis\"},{\"attributes\":{},\"id\":\"2607\",\"type\":\"UnionRenderers\"},{\"attributes\":{},\"id\":\"2606\",\"type\":\"AllLabels\"},{\"attributes\":{\"axis\":{\"id\":\"2572\"},\"coordinates\":null,\"group\":null,\"ticker\":null},\"id\":\"2575\",\"type\":\"Grid\"},{\"attributes\":{},\"id\":\"2573\",\"type\":\"BasicTicker\"},{\"attributes\":{\"fill_alpha\":{\"value\":0.2},\"fill_color\":{\"value\":\"blue\"},\"hatch_alpha\":{\"value\":0.2},\"hatch_color\":{\"value\":\"blue\"},\"line_alpha\":{\"value\":0.2},\"line_color\":{\"value\":\"blue\"},\"size\":{\"value\":10},\"x\":{\"field\":\"x\"},\"y\":{\"field\":\"y\"}},\"id\":\"2597\",\"type\":\"Circle\"},{\"attributes\":{\"fill_alpha\":{\"value\":0.5},\"fill_color\":{\"value\":\"blue\"},\"hatch_alpha\":{\"value\":0.5},\"hatch_color\":{\"value\":\"blue\"},\"line_alpha\":{\"value\":0.5},\"line_color\":{\"value\":\"blue\"},\"size\":{\"value\":10},\"x\":{\"field\":\"x\"},\"y\":{\"field\":\"y\"}},\"id\":\"2595\",\"type\":\"Circle\"},{\"attributes\":{\"coordinates\":null,\"data_source\":{\"id\":\"2594\"},\"glyph\":{\"id\":\"2595\"},\"group\":null,\"hover_glyph\":null,\"muted_glyph\":{\"id\":\"2597\"},\"nonselection_glyph\":{\"id\":\"2596\"},\"view\":{\"id\":\"2599\"}},\"id\":\"2598\",\"type\":\"GlyphRenderer\"},{\"attributes\":{\"source\":{\"id\":\"2594\"}},\"id\":\"2599\",\"type\":\"CDSView\"},{\"attributes\":{\"bottom_units\":\"screen\",\"coordinates\":null,\"fill_alpha\":0.5,\"fill_color\":\"lightgrey\",\"group\":null,\"left_units\":\"screen\",\"level\":\"overlay\",\"line_alpha\":1.0,\"line_color\":\"black\",\"line_dash\":[4,4],\"line_width\":2,\"right_units\":\"screen\",\"syncable\":false,\"top_units\":\"screen\"},\"id\":\"2586\",\"type\":\"BoxAnnotation\"},{\"attributes\":{\"coordinates\":null,\"group\":null,\"items\":[{\"id\":\"2611\"}]},\"id\":\"2610\",\"type\":\"Legend\"},{\"attributes\":{\"label\":{\"value\":\"Blue_points\"},\"renderers\":[{\"id\":\"2598\"}]},\"id\":\"2611\",\"type\":\"LegendItem\"},{\"attributes\":{\"axis\":{\"id\":\"2576\"},\"coordinates\":null,\"dimension\":1,\"group\":null,\"ticker\":null},\"id\":\"2579\",\"type\":\"Grid\"},{\"attributes\":{},\"id\":\"2577\",\"type\":\"BasicTicker\"},{\"attributes\":{},\"id\":\"2603\",\"type\":\"AllLabels\"},{\"attributes\":{\"data\":{\"x\":{\"__ndarray__\":\"1dLUMZJu4j8XtMnIymDlPxhgdQTYZLc/8ZV4sw8a6D9suApiI9DvP0BqY/Mgc5I/BKBrJAKA3j/EqfpfLZzMP8bJrK1/Z+U/oD5i8I9t5D+wrITV0jrbPyk3yFI+RO4/DEKIL6rD1z/En+sP3q/eP+gietmf17c/S3svhABl7z9YJnVLiEqyPzbI/2DCC+M/2Viltazg6j/3Mo90ccjiP8iiNrZI+cA/kJqlBxWmyD8oAjztqF7JP2wj5+e1x88/xLRTn69nwD8IIFlSOaTvP72CF2safeY/0gEvnx516z/heFr2gRnhPyDd6Tgmu6I/qF7aPFy26j9EDLmIIb7pP3C145yAMKM/x5hrJITa4D+R4WbonRniP49ie5yEpe4/qGbQX935sz/KpTewEXXjP4VuvF1k2eE/QLPVgs4vjj9cAApI2LzWP0XtoIZr3uU/kH3zdatXtz93knAeaFrsP0DrdSzcPq0/z0z4F4W94T9IEgSV1oXZP6v6U2x/weM/wXOm7DVs7D8dUuivGdvpP50GG3Ac/OE/QP0W10temz9/HfoGng7pP7pL2sDw4eA/5g6cIQVZ1z/6zmT2aPPZP0tv93lYH+0/QHt5jDZrrD+g+BtGWHeoP37zo/4xF+I/QUdINtYR4D94qVPddfPQP8A8eVb4T7c/lBonBIScyj+VKaBwOVnhP+gC2bVLj7A/gKUc+Dkqnz/eZV3uSszlP/AcRmVsMN4/idBTCKMP6j+NrznOJjLpP78FsToqVu8/+gXfmRK10D+IF72Lw7vJPw4XXlu5Ou4/4H7Md3wIuT9JRCscFJXmPyi0eZ8Cwc0/wC2tiYiRzT8gYxPy/aa8P11+Z41TSes/xJBmdC0Gxz/GObhapZ7VP75c8E0R0uU/eiz90YQF2D8ge1IuiD/tP0dVlPmeJOg/SSfsO4FA7z+QMlydWIDpP/DPI0cy3eI/eBaeW8pf3j+7sa621ebgP0BiDWtwrY0/+FLzrtHvvj+qSKOdwZXRPwBBuKoNM7s/bGZ9bBsBzj9729tqxmDoP7kZAjo8/+Y/oSLyyakn5j8=\",\"dtype\":\"float64\",\"order\":\"little\",\"shape\":[100]},\"y\":{\"__ndarray__\":\"tB7U2iNzwj/LozVKte3qP6h+fNNZuLc/VldA2D6V1j9wRbNsAnanP4IaYTa2/uk/qlhHRFlD7D/w99ziQjmtP2yrTpwza8Q/zFpTxo706D/8bqhWCUTHP7cepRwoi+E/qL/pMc5m2z/kLkBAeXvPP+BAHYWeR9U/AoCL0mYW6T+QzgaF9FrBPwB89ZDAAr4/17hS5DXY7D8trAxikjjlPza2Xd6u59k/CPTYG/3y1j+JhgoIw8jrPyJO8UfyK94/hG2Sm081xj9qirwVRRHsP7kvbrnxH+E/OG3C18rBsz90KcqVsn/EPzFmrBnE2eM/sAZM8ZmIpD9gxWfrHHGbP56bvXWT4uE/6ITQKRFD0z8yTIHbkuHfP8H2soPt6es/IFQ2B5IDtD+sMmRVg5zYP4wqJhYYZeU/XD1u+a3k5D+v41M869PvP6j8+fM/x9c/bgiMLSQf6j9v+NO7OyvqPwShOvdU5O8/wk73fIXo5j/EgWkU6VndP6R9D6N+N9o/fGxQNhwgxT/4N40uWAPWP71vZXpL2+E/wau3+frx5T9peuYy3nHkP9SR2eT4wMs/QHGUw3uTsz+EvwylznfeP7hmmM4iF8s/JIYb5Taa5D9oy3pVtUC2P9B7LazwpuI/VtcrclAu7z9PcGhaumvhPzXOqJUlqOY/umcgVbWR4D+G1X+aNx/tP1rDekUVxN4/mhnVnz2p2z/jMSeGhUXkPxLYoGj1uO0/w8b/XubE5j9PmVCGl7TjP14GyuaFhNo/lEnkg+sx4j+HILtvvd3hP/MVA4o4EOU/4M5yZ9cRnT8D1gODrHziP9xjLO7vwcI/9xM5a1QT5D/SykJQzd7XPwVhPJK8Hu0/oO7X/Qcd6D/gx/R2fS2dPwDF2BJoAIc/m/i2TRnN5D9gnvsrFoHqP2BCfhx9Ya0/WGfg1j7Suj8IX37x3mjkP5nnkTdXXeA/kN+2O1u81T8ekvaq78flP6Bj/OGeJdg/VDMfCJ/u0D9IPC7nUb+9P3luEX43XeQ/cKNyoOEutz9Wda8f7uXRP9AYpMlvIdg/xt+62lqD3D8=\",\"dtype\":\"float64\",\"order\":\"little\",\"shape\":[100]}},\"selected\":{\"id\":\"2608\"},\"selection_policy\":{\"id\":\"2607\"}},\"id\":\"2594\",\"type\":\"ColumnDataSource\"},{\"attributes\":{},\"id\":\"2605\",\"type\":\"BasicTickFormatter\"},{\"attributes\":{},\"id\":\"2584\",\"type\":\"ResetTool\"},{\"attributes\":{},\"id\":\"2583\",\"type\":\"SaveTool\"},{\"attributes\":{},\"id\":\"2602\",\"type\":\"BasicTickFormatter\"},{\"attributes\":{\"axis_label\":\"Y-axis\",\"coordinates\":null,\"formatter\":{\"id\":\"2602\"},\"group\":null,\"major_label_policy\":{\"id\":\"2603\"},\"ticker\":{\"id\":\"2577\"}},\"id\":\"2576\",\"type\":\"LinearAxis\"},{\"attributes\":{},\"id\":\"2568\",\"type\":\"LinearScale\"}],\"root_ids\":[\"2561\"]},\"title\":\"Bokeh Application\",\"version\":\"2.4.3\"}};\n",
       "  const render_items = [{\"docid\":\"a6cc2a3b-b01f-4835-8a84-e4e0a92c8a36\",\"root_ids\":[\"2561\"],\"roots\":{\"2561\":\"7c0ffbc1-6ea4-422b-be17-b5e15a37bb9b\"}}];\n",
       "  root.Bokeh.embed.embed_items_notebook(docs_json, render_items);\n",
       "  }\n",
       "  if (root.Bokeh !== undefined) {\n",
       "    embed_document(root);\n",
       "  } else {\n",
       "    let attempts = 0;\n",
       "    const timer = setInterval(function(root) {\n",
       "      if (root.Bokeh !== undefined) {\n",
       "        clearInterval(timer);\n",
       "        embed_document(root);\n",
       "      } else {\n",
       "        attempts++;\n",
       "        if (attempts > 100) {\n",
       "          clearInterval(timer);\n",
       "          console.log(\"Bokeh: ERROR: Unable to run BokehJS code because BokehJS library is missing\");\n",
       "        }\n",
       "      }\n",
       "    }, 10, root)\n",
       "  }\n",
       "})(window);"
      ],
      "application/vnd.bokehjs_exec.v0+json": ""
     },
     "metadata": {
      "application/vnd.bokehjs_exec.v0+json": {
       "id": "2561"
      }
     },
     "output_type": "display_data"
    }
   ],
   "source": [
    "from bokeh.plotting import figure, show\n",
    "from bokeh.io import output_notebook\n",
    "import numpy as np\n",
    "\n",
    "\n",
    "x = np.random.rand(100)\n",
    "y = np.random.rand(100)\n",
    "\n",
    "p = figure(title=\"Scatter Plot Example\", x_axis_label=\"X-axis\", y_axis_label=\"Y-axis\")\n",
    "\n",
    "p.circle(x, y, size=10, color=\"blue\",legend_label=\"Blue_points\", alpha=0.5)\n",
    "\n",
    "show(p)\n"
   ]
  },
  {
   "cell_type": "code",
   "execution_count": null,
   "id": "ffcbbf33",
   "metadata": {},
   "outputs": [],
   "source": []
  },
  {
   "cell_type": "markdown",
   "id": "7f682e4f",
   "metadata": {},
   "source": [
    "Q3. How can you customize the appearance of a Bokeh plot, including the axes, title, and legend?"
   ]
  },
  {
   "cell_type": "markdown",
   "id": "ce14567f",
   "metadata": {},
   "source": [
    "1)Customizing Axes :-"
   ]
  },
  {
   "cell_type": "code",
   "execution_count": 12,
   "id": "0cf03bf2",
   "metadata": {},
   "outputs": [
    {
     "data": {
      "text/html": [
       "\n",
       "  <div class=\"bk-root\" id=\"69975680-8c71-4a73-9b11-1cd99a18fea3\" data-root-id=\"2856\"></div>\n"
      ]
     },
     "metadata": {},
     "output_type": "display_data"
    },
    {
     "data": {
      "application/javascript": [
       "(function(root) {\n",
       "  function embed_document(root) {\n",
       "  const docs_json = {\"374d6eda-9db4-4343-8225-3e784fe9c405\":{\"defs\":[],\"roots\":{\"references\":[{\"attributes\":{\"below\":[{\"id\":\"2867\"}],\"center\":[{\"id\":\"2870\"},{\"id\":\"2874\"}],\"left\":[{\"id\":\"2871\"}],\"renderers\":[{\"id\":\"2893\"}],\"title\":{\"id\":\"2857\"},\"toolbar\":{\"id\":\"2882\"},\"x_range\":{\"id\":\"2859\"},\"x_scale\":{\"id\":\"2863\"},\"y_range\":{\"id\":\"2861\"},\"y_scale\":{\"id\":\"2865\"}},\"id\":\"2856\",\"subtype\":\"Figure\",\"type\":\"Plot\"},{\"attributes\":{},\"id\":\"2878\",\"type\":\"SaveTool\"},{\"attributes\":{},\"id\":\"2865\",\"type\":\"LinearScale\"},{\"attributes\":{\"line_alpha\":0.2,\"line_color\":\"red\",\"line_width\":2,\"x\":{\"field\":\"x\"},\"y\":{\"field\":\"y\"}},\"id\":\"2892\",\"type\":\"Line\"},{\"attributes\":{},\"id\":\"2868\",\"type\":\"BasicTicker\"},{\"attributes\":{},\"id\":\"2947\",\"type\":\"BasicTickFormatter\"},{\"attributes\":{\"axis\":{\"id\":\"2871\"},\"coordinates\":null,\"dimension\":1,\"group\":null,\"ticker\":null},\"id\":\"2874\",\"type\":\"Grid\"},{\"attributes\":{\"overlay\":{\"id\":\"2881\"}},\"id\":\"2877\",\"type\":\"BoxZoomTool\"},{\"attributes\":{},\"id\":\"2950\",\"type\":\"BasicTickFormatter\"},{\"attributes\":{},\"id\":\"2952\",\"type\":\"UnionRenderers\"},{\"attributes\":{},\"id\":\"2948\",\"type\":\"AllLabels\"},{\"attributes\":{},\"id\":\"2951\",\"type\":\"AllLabels\"},{\"attributes\":{\"tools\":[{\"id\":\"2875\"},{\"id\":\"2876\"},{\"id\":\"2877\"},{\"id\":\"2878\"},{\"id\":\"2879\"},{\"id\":\"2880\"}]},\"id\":\"2882\",\"type\":\"Toolbar\"},{\"attributes\":{\"line_color\":\"red\",\"line_width\":2,\"x\":{\"field\":\"x\"},\"y\":{\"field\":\"y\"}},\"id\":\"2890\",\"type\":\"Line\"},{\"attributes\":{},\"id\":\"2876\",\"type\":\"WheelZoomTool\"},{\"attributes\":{},\"id\":\"2863\",\"type\":\"LinearScale\"},{\"attributes\":{},\"id\":\"2859\",\"type\":\"DataRange1d\"},{\"attributes\":{},\"id\":\"2880\",\"type\":\"HelpTool\"},{\"attributes\":{\"axis_label\":\"Y_Axis\",\"axis_label_text_font_style\":\"bold\",\"coordinates\":null,\"formatter\":{\"id\":\"2947\"},\"group\":null,\"major_label_policy\":{\"id\":\"2948\"},\"major_label_text_color\":\"red\",\"ticker\":{\"id\":\"2872\"}},\"id\":\"2871\",\"type\":\"LinearAxis\"},{\"attributes\":{\"coordinates\":null,\"data_source\":{\"id\":\"2889\"},\"glyph\":{\"id\":\"2890\"},\"group\":null,\"hover_glyph\":null,\"muted_glyph\":{\"id\":\"2892\"},\"nonselection_glyph\":{\"id\":\"2891\"},\"view\":{\"id\":\"2894\"}},\"id\":\"2893\",\"type\":\"GlyphRenderer\"},{\"attributes\":{\"source\":{\"id\":\"2889\"}},\"id\":\"2894\",\"type\":\"CDSView\"},{\"attributes\":{},\"id\":\"2953\",\"type\":\"Selection\"},{\"attributes\":{},\"id\":\"2861\",\"type\":\"DataRange1d\"},{\"attributes\":{\"axis_label\":\"X_Axis\",\"coordinates\":null,\"formatter\":{\"id\":\"2950\"},\"group\":null,\"major_label_policy\":{\"id\":\"2951\"},\"major_label_text_color\":\"green\",\"ticker\":{\"id\":\"2868\"}},\"id\":\"2867\",\"type\":\"LinearAxis\"},{\"attributes\":{\"data\":{\"x\":[10,20,30,40,50],\"y\":[60,70,80,90,100]},\"selected\":{\"id\":\"2953\"},\"selection_policy\":{\"id\":\"2952\"}},\"id\":\"2889\",\"type\":\"ColumnDataSource\"},{\"attributes\":{},\"id\":\"2872\",\"type\":\"BasicTicker\"},{\"attributes\":{\"bottom_units\":\"screen\",\"coordinates\":null,\"fill_alpha\":0.5,\"fill_color\":\"lightgrey\",\"group\":null,\"left_units\":\"screen\",\"level\":\"overlay\",\"line_alpha\":1.0,\"line_color\":\"black\",\"line_dash\":[4,4],\"line_width\":2,\"right_units\":\"screen\",\"syncable\":false,\"top_units\":\"screen\"},\"id\":\"2881\",\"type\":\"BoxAnnotation\"},{\"attributes\":{\"line_alpha\":0.1,\"line_color\":\"red\",\"line_width\":2,\"x\":{\"field\":\"x\"},\"y\":{\"field\":\"y\"}},\"id\":\"2891\",\"type\":\"Line\"},{\"attributes\":{\"axis\":{\"id\":\"2867\"},\"coordinates\":null,\"group\":null,\"ticker\":null},\"id\":\"2870\",\"type\":\"Grid\"},{\"attributes\":{},\"id\":\"2879\",\"type\":\"ResetTool\"},{\"attributes\":{\"coordinates\":null,\"group\":null,\"text\":\"Customized Axes\"},\"id\":\"2857\",\"type\":\"Title\"},{\"attributes\":{},\"id\":\"2875\",\"type\":\"PanTool\"}],\"root_ids\":[\"2856\"]},\"title\":\"Bokeh Application\",\"version\":\"2.4.3\"}};\n",
       "  const render_items = [{\"docid\":\"374d6eda-9db4-4343-8225-3e784fe9c405\",\"root_ids\":[\"2856\"],\"roots\":{\"2856\":\"69975680-8c71-4a73-9b11-1cd99a18fea3\"}}];\n",
       "  root.Bokeh.embed.embed_items_notebook(docs_json, render_items);\n",
       "  }\n",
       "  if (root.Bokeh !== undefined) {\n",
       "    embed_document(root);\n",
       "  } else {\n",
       "    let attempts = 0;\n",
       "    const timer = setInterval(function(root) {\n",
       "      if (root.Bokeh !== undefined) {\n",
       "        clearInterval(timer);\n",
       "        embed_document(root);\n",
       "      } else {\n",
       "        attempts++;\n",
       "        if (attempts > 100) {\n",
       "          clearInterval(timer);\n",
       "          console.log(\"Bokeh: ERROR: Unable to run BokehJS code because BokehJS library is missing\");\n",
       "        }\n",
       "      }\n",
       "    }, 10, root)\n",
       "  }\n",
       "})(window);"
      ],
      "application/vnd.bokehjs_exec.v0+json": ""
     },
     "metadata": {
      "application/vnd.bokehjs_exec.v0+json": {
       "id": "2856"
      }
     },
     "output_type": "display_data"
    }
   ],
   "source": [
    "from bokeh.plotting import figure , show\n",
    "\n",
    "x=[10,20,30,40,50]\n",
    "y=[60,70,80,90,100]\n",
    "\n",
    "p=figure(title =\"Customized Axes\" , x_axis_label = \"X_Axis\" ,y_axis_label = \"Y_Axis\" )\n",
    "\n",
    "p.line(x,y , line_width=2 , color=\"red\")\n",
    "p.xaxis.axis_label_text_font_style = \"italic\"\n",
    "p.xaxis.major_label_text_color = \"green\"\n",
    "\n",
    "p.yaxis.axis_label_text_font_style = \"bold\"\n",
    "p.yaxis.major_label_text_color = \"red\"\n",
    "\n",
    "show(p)\n"
   ]
  },
  {
   "cell_type": "markdown",
   "id": "98c83e76",
   "metadata": {},
   "source": [
    "2)Customizing Title"
   ]
  },
  {
   "cell_type": "code",
   "execution_count": 15,
   "id": "cd33e7ba",
   "metadata": {},
   "outputs": [
    {
     "data": {
      "text/html": [
       "\n",
       "  <div class=\"bk-root\" id=\"f2673a5c-e546-4b2f-9f8f-6748a82a5fae\" data-root-id=\"3756\"></div>\n"
      ]
     },
     "metadata": {},
     "output_type": "display_data"
    },
    {
     "data": {
      "application/javascript": [
       "(function(root) {\n",
       "  function embed_document(root) {\n",
       "  const docs_json = {\"f2ac1d20-acdd-4c2d-ab44-12f92822d607\":{\"defs\":[],\"roots\":{\"references\":[{\"attributes\":{\"below\":[{\"id\":\"3767\"}],\"center\":[{\"id\":\"3770\"},{\"id\":\"3774\"}],\"left\":[{\"id\":\"3771\"}],\"renderers\":[{\"id\":\"3793\"}],\"title\":{\"id\":\"3757\"},\"toolbar\":{\"id\":\"3782\"},\"x_range\":{\"id\":\"3759\"},\"x_scale\":{\"id\":\"3763\"},\"y_range\":{\"id\":\"3761\"},\"y_scale\":{\"id\":\"3765\"}},\"id\":\"3756\",\"subtype\":\"Figure\",\"type\":\"Plot\"},{\"attributes\":{\"bottom_units\":\"screen\",\"coordinates\":null,\"fill_alpha\":0.5,\"fill_color\":\"lightgrey\",\"group\":null,\"left_units\":\"screen\",\"level\":\"overlay\",\"line_alpha\":1.0,\"line_color\":\"black\",\"line_dash\":[4,4],\"line_width\":2,\"right_units\":\"screen\",\"syncable\":false,\"top_units\":\"screen\"},\"id\":\"3781\",\"type\":\"BoxAnnotation\"},{\"attributes\":{},\"id\":\"3880\",\"type\":\"BasicTickFormatter\"},{\"attributes\":{},\"id\":\"3883\",\"type\":\"Selection\"},{\"attributes\":{},\"id\":\"3881\",\"type\":\"AllLabels\"},{\"attributes\":{},\"id\":\"3779\",\"type\":\"ResetTool\"},{\"attributes\":{},\"id\":\"3778\",\"type\":\"SaveTool\"},{\"attributes\":{\"overlay\":{\"id\":\"3781\"}},\"id\":\"3777\",\"type\":\"BoxZoomTool\"},{\"attributes\":{},\"id\":\"3775\",\"type\":\"PanTool\"},{\"attributes\":{\"axis_label\":\"X-Axis\",\"coordinates\":null,\"formatter\":{\"id\":\"3880\"},\"group\":null,\"major_label_policy\":{\"id\":\"3881\"},\"ticker\":{\"id\":\"3768\"}},\"id\":\"3767\",\"type\":\"LinearAxis\"},{\"attributes\":{\"tools\":[{\"id\":\"3775\"},{\"id\":\"3776\"},{\"id\":\"3777\"},{\"id\":\"3778\"},{\"id\":\"3779\"},{\"id\":\"3780\"}]},\"id\":\"3782\",\"type\":\"Toolbar\"},{\"attributes\":{},\"id\":\"3776\",\"type\":\"WheelZoomTool\"},{\"attributes\":{\"axis_label\":\"Y-Axis\",\"coordinates\":null,\"formatter\":{\"id\":\"3877\"},\"group\":null,\"major_label_policy\":{\"id\":\"3878\"},\"ticker\":{\"id\":\"3772\"}},\"id\":\"3771\",\"type\":\"LinearAxis\"},{\"attributes\":{\"source\":{\"id\":\"3789\"}},\"id\":\"3794\",\"type\":\"CDSView\"},{\"attributes\":{\"axis\":{\"id\":\"3771\"},\"coordinates\":null,\"dimension\":1,\"group\":null,\"ticker\":null},\"id\":\"3774\",\"type\":\"Grid\"},{\"attributes\":{\"coordinates\":null,\"group\":null,\"text\":\"Customized Title\",\"text_color\":\"Purple\",\"text_font_size\":\"40pt\"},\"id\":\"3757\",\"type\":\"Title\"},{\"attributes\":{},\"id\":\"3765\",\"type\":\"LinearScale\"},{\"attributes\":{},\"id\":\"3761\",\"type\":\"DataRange1d\"},{\"attributes\":{\"coordinates\":null,\"data_source\":{\"id\":\"3789\"},\"glyph\":{\"id\":\"3790\"},\"group\":null,\"hover_glyph\":null,\"muted_glyph\":{\"id\":\"3792\"},\"nonselection_glyph\":{\"id\":\"3791\"},\"view\":{\"id\":\"3794\"}},\"id\":\"3793\",\"type\":\"GlyphRenderer\"},{\"attributes\":{},\"id\":\"3780\",\"type\":\"HelpTool\"},{\"attributes\":{\"line_color\":\"blue\",\"line_width\":10,\"x\":{\"field\":\"x\"},\"y\":{\"field\":\"y\"}},\"id\":\"3790\",\"type\":\"Line\"},{\"attributes\":{},\"id\":\"3772\",\"type\":\"BasicTicker\"},{\"attributes\":{},\"id\":\"3882\",\"type\":\"UnionRenderers\"},{\"attributes\":{\"line_alpha\":0.1,\"line_color\":\"blue\",\"line_width\":10,\"x\":{\"field\":\"x\"},\"y\":{\"field\":\"y\"}},\"id\":\"3791\",\"type\":\"Line\"},{\"attributes\":{\"data\":{\"x\":[1,2,3,4,5],\"y\":[6,7,8,9,10]},\"selected\":{\"id\":\"3883\"},\"selection_policy\":{\"id\":\"3882\"}},\"id\":\"3789\",\"type\":\"ColumnDataSource\"},{\"attributes\":{},\"id\":\"3877\",\"type\":\"BasicTickFormatter\"},{\"attributes\":{\"axis\":{\"id\":\"3767\"},\"coordinates\":null,\"group\":null,\"ticker\":null},\"id\":\"3770\",\"type\":\"Grid\"},{\"attributes\":{},\"id\":\"3763\",\"type\":\"LinearScale\"},{\"attributes\":{},\"id\":\"3768\",\"type\":\"BasicTicker\"},{\"attributes\":{},\"id\":\"3878\",\"type\":\"AllLabels\"},{\"attributes\":{\"line_alpha\":0.2,\"line_color\":\"blue\",\"line_width\":10,\"x\":{\"field\":\"x\"},\"y\":{\"field\":\"y\"}},\"id\":\"3792\",\"type\":\"Line\"},{\"attributes\":{},\"id\":\"3759\",\"type\":\"DataRange1d\"}],\"root_ids\":[\"3756\"]},\"title\":\"Bokeh Application\",\"version\":\"2.4.3\"}};\n",
       "  const render_items = [{\"docid\":\"f2ac1d20-acdd-4c2d-ab44-12f92822d607\",\"root_ids\":[\"3756\"],\"roots\":{\"3756\":\"f2673a5c-e546-4b2f-9f8f-6748a82a5fae\"}}];\n",
       "  root.Bokeh.embed.embed_items_notebook(docs_json, render_items);\n",
       "  }\n",
       "  if (root.Bokeh !== undefined) {\n",
       "    embed_document(root);\n",
       "  } else {\n",
       "    let attempts = 0;\n",
       "    const timer = setInterval(function(root) {\n",
       "      if (root.Bokeh !== undefined) {\n",
       "        clearInterval(timer);\n",
       "        embed_document(root);\n",
       "      } else {\n",
       "        attempts++;\n",
       "        if (attempts > 100) {\n",
       "          clearInterval(timer);\n",
       "          console.log(\"Bokeh: ERROR: Unable to run BokehJS code because BokehJS library is missing\");\n",
       "        }\n",
       "      }\n",
       "    }, 10, root)\n",
       "  }\n",
       "})(window);"
      ],
      "application/vnd.bokehjs_exec.v0+json": ""
     },
     "metadata": {
      "application/vnd.bokehjs_exec.v0+json": {
       "id": "3756"
      }
     },
     "output_type": "display_data"
    }
   ],
   "source": [
    "from bokeh.plotting import figure , show\n",
    "\n",
    "x=[1,2,3,4,5]\n",
    "y=[6,7,8,9,10]\n",
    "\n",
    "p = figure(title=\"Customized Title\", x_axis_label=\"X-Axis\", y_axis_label=\"Y-Axis\")\n",
    "\n",
    "p.line(x,y, line_width = 10 , color = \"blue\")\n",
    "\n",
    "p.title.text_color = \"Purple\"\n",
    "p.title.text_font_size = \"40pt\"\n",
    "\n",
    "show(p)"
   ]
  },
  {
   "cell_type": "markdown",
   "id": "c48a244c",
   "metadata": {},
   "source": [
    "3)Customized Legend"
   ]
  },
  {
   "cell_type": "code",
   "execution_count": 16,
   "id": "632954ec",
   "metadata": {},
   "outputs": [
    {
     "data": {
      "text/html": [
       "\n",
       "  <div class=\"bk-root\" id=\"ae505f83-efc5-49ff-805f-f15c71149f9f\" data-root-id=\"4076\"></div>\n"
      ]
     },
     "metadata": {},
     "output_type": "display_data"
    },
    {
     "data": {
      "application/javascript": [
       "(function(root) {\n",
       "  function embed_document(root) {\n",
       "  const docs_json = {\"2b065892-a8fa-4238-9bb6-21260b8de8e8\":{\"defs\":[],\"roots\":{\"references\":[{\"attributes\":{\"below\":[{\"id\":\"4087\"}],\"center\":[{\"id\":\"4090\"},{\"id\":\"4094\"},{\"id\":\"4125\"}],\"left\":[{\"id\":\"4091\"}],\"renderers\":[{\"id\":\"4113\"},{\"id\":\"4131\"}],\"title\":{\"id\":\"4077\"},\"toolbar\":{\"id\":\"4102\"},\"x_range\":{\"id\":\"4079\"},\"x_scale\":{\"id\":\"4083\"},\"y_range\":{\"id\":\"4081\"},\"y_scale\":{\"id\":\"4085\"}},\"id\":\"4076\",\"subtype\":\"Figure\",\"type\":\"Plot\"},{\"attributes\":{},\"id\":\"4142\",\"type\":\"UnionRenderers\"},{\"attributes\":{\"line_alpha\":0.1,\"line_color\":\"blue\",\"line_width\":2,\"x\":{\"field\":\"x\"},\"y\":{\"field\":\"y\"}},\"id\":\"4111\",\"type\":\"Line\"},{\"attributes\":{\"background_fill_color\":\"lightgray\",\"coordinates\":null,\"group\":null,\"items\":[{\"id\":\"4126\"},{\"id\":\"4145\"}],\"location\":\"top_left\",\"title\":\"Legend Title\"},\"id\":\"4125\",\"type\":\"Legend\"},{\"attributes\":{\"data\":{\"x\":[1,2,3,4,5],\"y\":[2,4,6,8,10]},\"selected\":{\"id\":\"4123\"},\"selection_policy\":{\"id\":\"4122\"}},\"id\":\"4109\",\"type\":\"ColumnDataSource\"},{\"attributes\":{\"data\":{\"x\":[1,2,3,4,5],\"y\":[1,3,5,7,9]},\"selected\":{\"id\":\"4143\"},\"selection_policy\":{\"id\":\"4142\"}},\"id\":\"4127\",\"type\":\"ColumnDataSource\"},{\"attributes\":{\"label\":{\"value\":\"Line 2\"},\"renderers\":[{\"id\":\"4131\"}]},\"id\":\"4145\",\"type\":\"LegendItem\"},{\"attributes\":{},\"id\":\"4081\",\"type\":\"DataRange1d\"},{\"attributes\":{\"line_color\":\"red\",\"line_width\":2,\"x\":{\"field\":\"x\"},\"y\":{\"field\":\"y\"}},\"id\":\"4128\",\"type\":\"Line\"},{\"attributes\":{},\"id\":\"4095\",\"type\":\"PanTool\"},{\"attributes\":{},\"id\":\"4100\",\"type\":\"HelpTool\"},{\"attributes\":{},\"id\":\"4117\",\"type\":\"BasicTickFormatter\"},{\"attributes\":{\"label\":{\"value\":\"Line 1\"},\"renderers\":[{\"id\":\"4113\"}]},\"id\":\"4126\",\"type\":\"LegendItem\"},{\"attributes\":{},\"id\":\"4118\",\"type\":\"AllLabels\"},{\"attributes\":{\"bottom_units\":\"screen\",\"coordinates\":null,\"fill_alpha\":0.5,\"fill_color\":\"lightgrey\",\"group\":null,\"left_units\":\"screen\",\"level\":\"overlay\",\"line_alpha\":1.0,\"line_color\":\"black\",\"line_dash\":[4,4],\"line_width\":2,\"right_units\":\"screen\",\"syncable\":false,\"top_units\":\"screen\"},\"id\":\"4101\",\"type\":\"BoxAnnotation\"},{\"attributes\":{\"overlay\":{\"id\":\"4101\"}},\"id\":\"4097\",\"type\":\"BoxZoomTool\"},{\"attributes\":{},\"id\":\"4079\",\"type\":\"DataRange1d\"},{\"attributes\":{},\"id\":\"4120\",\"type\":\"BasicTickFormatter\"},{\"attributes\":{\"coordinates\":null,\"data_source\":{\"id\":\"4109\"},\"glyph\":{\"id\":\"4110\"},\"group\":null,\"hover_glyph\":null,\"muted_glyph\":{\"id\":\"4112\"},\"nonselection_glyph\":{\"id\":\"4111\"},\"view\":{\"id\":\"4114\"}},\"id\":\"4113\",\"type\":\"GlyphRenderer\"},{\"attributes\":{},\"id\":\"4121\",\"type\":\"AllLabels\"},{\"attributes\":{\"line_alpha\":0.1,\"line_color\":\"red\",\"line_width\":2,\"x\":{\"field\":\"x\"},\"y\":{\"field\":\"y\"}},\"id\":\"4129\",\"type\":\"Line\"},{\"attributes\":{\"source\":{\"id\":\"4127\"}},\"id\":\"4132\",\"type\":\"CDSView\"},{\"attributes\":{},\"id\":\"4099\",\"type\":\"ResetTool\"},{\"attributes\":{},\"id\":\"4096\",\"type\":\"WheelZoomTool\"},{\"attributes\":{},\"id\":\"4098\",\"type\":\"SaveTool\"},{\"attributes\":{},\"id\":\"4092\",\"type\":\"BasicTicker\"},{\"attributes\":{\"axis\":{\"id\":\"4091\"},\"coordinates\":null,\"dimension\":1,\"group\":null,\"ticker\":null},\"id\":\"4094\",\"type\":\"Grid\"},{\"attributes\":{\"line_alpha\":0.2,\"line_color\":\"blue\",\"line_width\":2,\"x\":{\"field\":\"x\"},\"y\":{\"field\":\"y\"}},\"id\":\"4112\",\"type\":\"Line\"},{\"attributes\":{},\"id\":\"4122\",\"type\":\"UnionRenderers\"},{\"attributes\":{\"coordinates\":null,\"data_source\":{\"id\":\"4127\"},\"glyph\":{\"id\":\"4128\"},\"group\":null,\"hover_glyph\":null,\"muted_glyph\":{\"id\":\"4130\"},\"nonselection_glyph\":{\"id\":\"4129\"},\"view\":{\"id\":\"4132\"}},\"id\":\"4131\",\"type\":\"GlyphRenderer\"},{\"attributes\":{},\"id\":\"4085\",\"type\":\"LinearScale\"},{\"attributes\":{},\"id\":\"4143\",\"type\":\"Selection\"},{\"attributes\":{\"coordinates\":null,\"group\":null,\"text\":\"Customized Legend\"},\"id\":\"4077\",\"type\":\"Title\"},{\"attributes\":{\"line_color\":\"blue\",\"line_width\":2,\"x\":{\"field\":\"x\"},\"y\":{\"field\":\"y\"}},\"id\":\"4110\",\"type\":\"Line\"},{\"attributes\":{},\"id\":\"4123\",\"type\":\"Selection\"},{\"attributes\":{},\"id\":\"4088\",\"type\":\"BasicTicker\"},{\"attributes\":{\"axis\":{\"id\":\"4087\"},\"coordinates\":null,\"group\":null,\"ticker\":null},\"id\":\"4090\",\"type\":\"Grid\"},{\"attributes\":{},\"id\":\"4083\",\"type\":\"LinearScale\"},{\"attributes\":{\"axis_label\":\"X-axis\",\"coordinates\":null,\"formatter\":{\"id\":\"4120\"},\"group\":null,\"major_label_policy\":{\"id\":\"4121\"},\"ticker\":{\"id\":\"4088\"}},\"id\":\"4087\",\"type\":\"LinearAxis\"},{\"attributes\":{\"line_alpha\":0.2,\"line_color\":\"red\",\"line_width\":2,\"x\":{\"field\":\"x\"},\"y\":{\"field\":\"y\"}},\"id\":\"4130\",\"type\":\"Line\"},{\"attributes\":{\"source\":{\"id\":\"4109\"}},\"id\":\"4114\",\"type\":\"CDSView\"},{\"attributes\":{\"axis_label\":\"Y-axis\",\"coordinates\":null,\"formatter\":{\"id\":\"4117\"},\"group\":null,\"major_label_policy\":{\"id\":\"4118\"},\"ticker\":{\"id\":\"4092\"}},\"id\":\"4091\",\"type\":\"LinearAxis\"},{\"attributes\":{\"tools\":[{\"id\":\"4095\"},{\"id\":\"4096\"},{\"id\":\"4097\"},{\"id\":\"4098\"},{\"id\":\"4099\"},{\"id\":\"4100\"}]},\"id\":\"4102\",\"type\":\"Toolbar\"}],\"root_ids\":[\"4076\"]},\"title\":\"Bokeh Application\",\"version\":\"2.4.3\"}};\n",
       "  const render_items = [{\"docid\":\"2b065892-a8fa-4238-9bb6-21260b8de8e8\",\"root_ids\":[\"4076\"],\"roots\":{\"4076\":\"ae505f83-efc5-49ff-805f-f15c71149f9f\"}}];\n",
       "  root.Bokeh.embed.embed_items_notebook(docs_json, render_items);\n",
       "  }\n",
       "  if (root.Bokeh !== undefined) {\n",
       "    embed_document(root);\n",
       "  } else {\n",
       "    let attempts = 0;\n",
       "    const timer = setInterval(function(root) {\n",
       "      if (root.Bokeh !== undefined) {\n",
       "        clearInterval(timer);\n",
       "        embed_document(root);\n",
       "      } else {\n",
       "        attempts++;\n",
       "        if (attempts > 100) {\n",
       "          clearInterval(timer);\n",
       "          console.log(\"Bokeh: ERROR: Unable to run BokehJS code because BokehJS library is missing\");\n",
       "        }\n",
       "      }\n",
       "    }, 10, root)\n",
       "  }\n",
       "})(window);"
      ],
      "application/vnd.bokehjs_exec.v0+json": ""
     },
     "metadata": {
      "application/vnd.bokehjs_exec.v0+json": {
       "id": "4076"
      }
     },
     "output_type": "display_data"
    }
   ],
   "source": [
    "from bokeh.plotting import figure , show\n",
    "\n",
    "x = [1, 2, 3, 4, 5]\n",
    "y1 = [2, 4, 6, 8, 10]\n",
    "y2 = [1, 3, 5, 7, 9]\n",
    "\n",
    "p = figure(title=\"Customized Legend\", x_axis_label=\"X-axis\", y_axis_label=\"Y-axis\")\n",
    "\n",
    "p.line(x, y1, line_width=2, color=\"blue\", legend_label=\"Line 1\")\n",
    "p.line(x, y2, line_width=2, color=\"red\", legend_label=\"Line 2\")\n",
    "\n",
    "p.legend.title = \"Legend Title\"\n",
    "p.legend.location = \"top_left\"\n",
    "p.legend.background_fill_color = \"lightgray\"\n",
    "\"\"\n",
    "show(p)"
   ]
  },
  {
   "cell_type": "code",
   "execution_count": null,
   "id": "1c1128ec",
   "metadata": {},
   "outputs": [],
   "source": []
  },
  {
   "cell_type": "markdown",
   "id": "4da4ea4b",
   "metadata": {},
   "source": [
    "Q4. What is a Bokeh server, and how can you use it to create interactive plots that can be updated in\n",
    "real time?"
   ]
  },
  {
   "cell_type": "markdown",
   "id": "8d133221",
   "metadata": {},
   "source": [
    "==>\n",
    "A Bokeh server is a key component of Bokeh that allows you to create interactive web applications with dynamic, real-time updates. With Bokeh server, you can build data-driven web applications that let users interact with the plots and update the data or visualization dynamically without needing to reload the entire page. This is particularly useful for building interactive dashboards, scientific visualizations, and other applications where real-time updates are essential.\n",
    "\n",
    "\n",
    "To use Bokeh server, you need to write a Python script that defines the interactive elements and their behavior. This script will be executed by the Bokeh server, which communicates with the web browser and updates the plot based on the user's interactions."
   ]
  },
  {
   "cell_type": "code",
   "execution_count": null,
   "id": "a5c8f606",
   "metadata": {},
   "outputs": [],
   "source": []
  },
  {
   "cell_type": "markdown",
   "id": "a74cc3bc",
   "metadata": {},
   "source": [
    "Q5. How can you embed a Bokeh plot into a web page or dashboard using Flask or Django?"
   ]
  },
  {
   "cell_type": "markdown",
   "id": "65e1cce7",
   "metadata": {},
   "source": [
    "==>\n",
    "\n",
    "To embed a Bokeh plot into a web page or dashboard using Flask or Django, you can follow these general steps:\n",
    "\n",
    "1)Create a Bokeh plot: First, create the Bokeh plot using the Bokeh library as you normally would. Define the data, glyphs, and other components of the plot based on your requirements.\n",
    "\n",
    "    \n",
    "2_Save the Bokeh plot as an HTML file: Use the bokeh.plotting module to save the Bokeh plot as an HTML file. This file will contain the necessary JavaScript code to render the plot in a web page.\n",
    "\n",
    "    \n",
    "3)Set up your Flask or Django web application: Create a Flask or Django web application that will serve the HTML file containing the Bokeh plot.\n",
    "\n",
    "    \n",
    "4)Embed the Bokeh plot in the web page: In the Flask or Django template, use the {% raw %}{% include %}{% endraw %} tag (Django) or simply include the HTML file (Flask) to embed the Bokeh plot into the web page."
   ]
  },
  {
   "cell_type": "code",
   "execution_count": null,
   "id": "a761831a",
   "metadata": {},
   "outputs": [],
   "source": []
  }
 ],
 "metadata": {
  "kernelspec": {
   "display_name": "Python 3 (ipykernel)",
   "language": "python",
   "name": "python3"
  },
  "language_info": {
   "codemirror_mode": {
    "name": "ipython",
    "version": 3
   },
   "file_extension": ".py",
   "mimetype": "text/x-python",
   "name": "python",
   "nbconvert_exporter": "python",
   "pygments_lexer": "ipython3",
   "version": "3.10.9"
  }
 },
 "nbformat": 4,
 "nbformat_minor": 5
}
